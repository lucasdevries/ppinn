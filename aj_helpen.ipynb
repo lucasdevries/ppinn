{
 "cells": [
  {
   "cell_type": "code",
   "execution_count": 8,
   "metadata": {
    "collapsed": true
   },
   "outputs": [],
   "source": [
    "import glob, os\n",
    "import SimpleITK as sitk\n",
    "import numpy as np"
   ]
  },
  {
   "cell_type": "code",
   "execution_count": 11,
   "outputs": [
    {
     "name": "stdout",
     "output_type": "stream",
     "text": [
      "C080 DWI_segmentation.nii.gz 1.0\n",
      "C080 DWI_segmentation_MK.nii.gz 1.0\n",
      "C081 DWI_segmentation.nii.gz 1.0\n",
      "C082 DWI_segmentation.nii.gz 1.0\n",
      "C084 DWI_segmentation.nii.gz 1.0\n",
      "C085 DWI_segmentation.nii.gz 1.0\n",
      "C086 DWI_segmentation.nii.gz 1.0\n",
      "C086 DWI_segmentation_MK.nii.gz 1.0\n",
      "C087 DWI_segmentation.nii.gz 1.0\n",
      "C087 DWI_segmentation_MK.nii.gz 1.0\n",
      "C088 DWI_segmentation.nii.gz 1.0\n",
      "C088 DWI_segmentation_MK.nii.gz 1.0\n",
      "C089 DWI_segmentation.nii.gz 1.0\n",
      "C089 DWI_segmentation_MK.nii.gz 1.0\n",
      "C090 DWI_segmentation.nii.gz 1.0\n",
      "C090 DWI_segmentation_MK.nii.gz 1.0\n",
      "C091 DWI_segmentation.nii.gz 1.0\n",
      "C092 DWI_segmentation.nii.gz 2.630739883348647\n",
      "C092 DWI_segmentation_MK.nii.gz 2.630739883348647\n",
      "C093 DWI_segmentation.nii.gz 1.0\n",
      "C094 DWI_segmentation.nii.gz 1.0\n",
      "C094 DWI_segmentation_MK.nii.gz 1.0\n",
      "C095 DWI_segmentation.nii.gz 1.0\n",
      "C095 DWI_segmentation_MK.nii.gz 1.0\n",
      "C096 DWI_segmentation.nii.gz 1.0\n",
      "C096 DWI_segmentation_MK.nii.gz 1.0\n",
      "C096 DWI_segmentation_MK_CM.nii.gz 1.0\n",
      "C097 DWI_segmentation.nii.gz 1.0\n",
      "C097 DWI_segmentation_MK.nii.gz 1.0\n",
      "C098 DWI_segmentation.nii.gz 1.0\n",
      "C099 DWI_segmentation.nii.gz 1.0\n",
      "C099 DWI_segmentation_MK.nii.gz 1.0\n",
      "C100 DWI_segmentation.nii.gz 1.0\n",
      "C101 DWI_segmentation.nii.gz 1.0\n",
      "C102 DWI_segmentation.nii.gz 1.0\n",
      "C103 DWI_segmentation.nii.gz 1.0\n",
      "C104 DWI_segmentation.nii.gz 1.0\n",
      "C104 DWI_segmentation_MK.nii.gz 1.0\n",
      "C105 DWI_segmentation.nii.gz 1.0\n",
      "C106 DWI_segmentation.nii.gz 1.0\n",
      "C106 DWI_segmentation_MK.nii.gz 1.0\n",
      "C107 DWI_segmentation.nii.gz 1.0\n",
      "C108 DWI_segmentation.nii.gz 1.0\n",
      "C109 DWI_segmentation.nii.gz 1.0\n",
      "C110 DWI_segmentation.nii.gz 1.0\n",
      "C110 DWI_segmentation_MK.nii.gz 1.0\n",
      "C111 DWI_segmentation.nii.gz 1.0\n",
      "C111 DWI_segmentation_MK.nii.gz 1.0\n",
      "C112 DWI_segmentation.nii.gz 1.0\n",
      "C112 DWI_segmentation_MK.nii.gz 1.0\n",
      "C112 DWI_segmentation_MK_CM.nii.gz 1.0\n",
      "C113 DWI_segmentation.nii.gz 1.0\n",
      "C113 DWI_segmentation_MK.nii.gz 1.0\n",
      "C114 DWI_segmentation.nii.gz 1.0\n",
      "C114 DWI_segmentation_MK.nii.gz 1.0\n",
      "C115 DWI_segmentation.nii.gz 1.0\n",
      "C115 DWI_segmentation_MK.nii.gz 1.0\n",
      "C116 DWI_segmentation.nii.gz 1.0\n",
      "C116 DWI_segmentation_MK.nii.gz 1.0\n",
      "C117 DWI_segmentation.nii.gz 1.0\n",
      "C117 DWI_segmentation_MK.nii.gz 1.0\n",
      "C118 DWI_segmentation.nii.gz 1.0\n",
      "C118 DWI_segmentation_MK.nii.gz 1.0\n",
      "C119 DWI_segmentation.nii.gz 1.0\n"
     ]
    }
   ],
   "source": [
    "base = r'L:\\basic\\divi\\CMAJOIE\\CLEOPATRA\\CTP_MRI_data\\Data\\DWI_segmentations'\n",
    "folders = os.listdir(base)\n",
    "all_scans = []\n",
    "for folder in folders:\n",
    "    if folder[0] != 'C':\n",
    "        continue\n",
    "    if int(folder[1:])>79:\n",
    "        items = glob.glob(os.path.join(base, folder, 'DWI_segmentati*'))\n",
    "        for item in items:\n",
    "            name = folder\n",
    "            filename = item.split(os.sep)[-1]\n",
    "            scan = sitk.ReadImage(item)\n",
    "            dx, dy, dz = scan.GetSpacing()\n",
    "            dd = np.product([dx, dy, dz])\n",
    "            vol = np.sum(sitk.GetArrayFromImage(scan))\n",
    "            vol_ml = vol * dd / 1000\n",
    "            print(name, filename, vol_ml)"
   ],
   "metadata": {
    "collapsed": false,
    "pycharm": {
     "name": "#%%\n"
    }
   }
  },
  {
   "cell_type": "code",
   "execution_count": null,
   "outputs": [],
   "source": [],
   "metadata": {
    "collapsed": false,
    "pycharm": {
     "name": "#%%\n"
    }
   }
  }
 ],
 "metadata": {
  "kernelspec": {
   "display_name": "Python 3",
   "language": "python",
   "name": "python3"
  },
  "language_info": {
   "codemirror_mode": {
    "name": "ipython",
    "version": 2
   },
   "file_extension": ".py",
   "mimetype": "text/x-python",
   "name": "python",
   "nbconvert_exporter": "python",
   "pygments_lexer": "ipython2",
   "version": "2.7.6"
  }
 },
 "nbformat": 4,
 "nbformat_minor": 0
}