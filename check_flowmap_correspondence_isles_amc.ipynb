{
 "cells": [
  {
   "cell_type": "code",
   "execution_count": 1,
   "metadata": {
    "collapsed": true
   },
   "outputs": [],
   "source": [
    "import glob, os\n",
    "\n",
    "from tqdm import tqdm\n",
    "import SimpleITK as sitk\n",
    "\n",
    "import matplotlib.pyplot as plt"
   ]
  },
  {
   "cell_type": "code",
   "execution_count": 2,
   "outputs": [],
   "source": [
    "from utils.val_utils import drop_unphysical_amc\n",
    "amc_dir = r'data/results_ppinn_amcctp'\n",
    "isles_dir = r'data/results_ppinn_isles_upsampled'\n"
   ],
   "metadata": {
    "collapsed": false,
    "pycharm": {
     "name": "#%%\n"
    }
   }
  },
  {
   "cell_type": "code",
   "execution_count": 3,
   "outputs": [
    {
     "name": "stderr",
     "output_type": "stream",
     "text": [
      "100%|██████████| 94/94 [00:14<00:00,  6.63it/s]\n"
     ]
    }
   ],
   "source": [
    "cases = os.listdir(isles_dir)\n",
    "values_isles = {}\n",
    "values_isles['cbf'] = []\n",
    "values_isles['cbv'] = []\n",
    "values_isles['mtt'] = []\n",
    "values_isles['delay'] = []\n",
    "values_isles['tmax'] = []\n",
    "\n",
    "for case in tqdm(cases):\n",
    "    data = {}\n",
    "    data['cbf'] = sitk.ReadImage(os.path.join(isles_dir,case,'cbf.nii'))\n",
    "    data['cbv'] = sitk.ReadImage(os.path.join(isles_dir,case,'cbv.nii'))\n",
    "    data['mtt' ]= sitk.ReadImage(os.path.join(isles_dir,case,'mtt.nii'))\n",
    "    data['delay'] = sitk.ReadImage(os.path.join(isles_dir,case,'delay.nii'))\n",
    "    data['tmax'] = sitk.ReadImage(os.path.join(isles_dir,case,'tmax.nii'))\n",
    "\n",
    "    for key, val in data.items():\n",
    "        value_list = sitk.GetArrayFromImage(val).flatten().tolist()\n",
    "        values_isles[key].append(value_list)\n",
    "\n",
    "for key, val in values_isles.items():\n",
    "    values_isles[key] = [item for sublist in val for item in sublist]"
   ],
   "metadata": {
    "collapsed": false,
    "pycharm": {
     "name": "#%%\n"
    }
   }
  },
  {
   "cell_type": "code",
   "execution_count": null,
   "outputs": [],
   "source": [
    "cases = os.listdir(amc_dir)\n",
    "values_amc = {}\n",
    "values_amc['cbf'] = []\n",
    "values_amc['cbv'] = []\n",
    "values_amc['mtt'] = []\n",
    "values_amc['delay'] = []\n",
    "values_amc['tmax'] = []\n",
    "\n",
    "for case in tqdm(cases):\n",
    "    data = {}\n",
    "    data['cbf'] = sitk.ReadImage(os.path.join(amc_dir,case,'cbf.nii'))\n",
    "    data['cbv'] = sitk.ReadImage(os.path.join(amc_dir,case,'cbv.nii'))\n",
    "    data['mtt' ]= sitk.ReadImage(os.path.join(amc_dir,case,'mtt.nii'))\n",
    "    data['delay'] = sitk.ReadImage(os.path.join(amc_dir,case,'delay.nii'))\n",
    "    data['tmax'] = sitk.ReadImage(os.path.join(amc_dir,case,'tmax.nii'))\n",
    "\n",
    "    for key, val in data.items():\n",
    "        value_list = sitk.GetArrayFromImage(val).flatten().tolist()\n",
    "        values_amc[key].append(value_list)\n",
    "\n",
    "for key, val in values_amc.items():\n",
    "    values_amc[key] = [item for sublist in val for item in sublist]"
   ],
   "metadata": {
    "collapsed": false,
    "pycharm": {
     "name": "#%%\n"
    }
   }
  },
  {
   "cell_type": "code",
   "execution_count": 4,
   "outputs": [
    {
     "data": {
      "text/plain": "(139984896, 131596288)"
     },
     "execution_count": 4,
     "metadata": {},
     "output_type": "execute_result"
    }
   ],
   "source": [
    "len(values_amc['cbf']), len(values_isles['cbf'])\n"
   ],
   "metadata": {
    "collapsed": false,
    "pycharm": {
     "name": "#%%\n"
    }
   }
  },
  {
   "cell_type": "code",
   "execution_count": null,
   "outputs": [],
   "source": [
    "fig, ax = plt.subplots(1,2)\n",
    "ax[0].hist(values_isles['cbf'], range=(1,150),density=True, bins=20)\n",
    "ax[1].hist(values_amc['cbf'], range=(1,150),density=True, bins=20)\n",
    "plt.savefig('cbf.png')\n",
    "plt.show()"
   ],
   "metadata": {
    "collapsed": false,
    "pycharm": {
     "name": "#%%\n"
    }
   }
  },
  {
   "cell_type": "code",
   "execution_count": null,
   "outputs": [],
   "source": [
    "fig, ax = plt.subplots(1,2)\n",
    "ax[0].hist(values_isles['cbv'], range=(0,20),density=True, bins=20)\n",
    "ax[1].hist(values_amc['cbv'], range=(0,20),density=True, bins=20)\n",
    "plt.savefig('cbv.png')\n",
    "\n",
    "plt.show()"
   ],
   "metadata": {
    "collapsed": false,
    "pycharm": {
     "name": "#%%\n"
    }
   }
  },
  {
   "cell_type": "code",
   "execution_count": null,
   "outputs": [],
   "source": [
    "fig, ax = plt.subplots(1,2)\n",
    "ax[0].hist(values_isles['mtt'], range=(0,30),density=True, bins=20)\n",
    "ax[1].hist(values_amc['mtt'], range=(0,30),density=True, bins=20)\n",
    "plt.savefig('mtt.png')\n",
    "\n",
    "plt.show()"
   ],
   "metadata": {
    "collapsed": false,
    "pycharm": {
     "name": "#%%\n"
    }
   }
  },
  {
   "cell_type": "code",
   "execution_count": null,
   "outputs": [],
   "source": [
    "fig, ax = plt.subplots(1,2)\n",
    "ax[0].hist(values_isles['delay'], range=(0,10),density=True, bins=20)\n",
    "ax[1].hist(values_amc['delay'], range=(0,10),density=True, bins=20)\n",
    "plt.savefig('delay.png')\n",
    "\n",
    "plt.show()"
   ],
   "metadata": {
    "collapsed": false,
    "pycharm": {
     "name": "#%%\n"
    }
   }
  },
  {
   "cell_type": "code",
   "execution_count": null,
   "outputs": [],
   "source": [
    "fig, ax = plt.subplots(1,2)\n",
    "ax[0].hist(values_isles['tmax'], range=(0,15),density=True, bins=20)\n",
    "ax[1].hist(values_amc['tmax'], range=(0,15),density=True, bins=20)\n",
    "plt.savefig('tmax.png')\n",
    "plt.show()"
   ],
   "metadata": {
    "collapsed": false,
    "pycharm": {
     "name": "#%%\n"
    }
   }
  },
  {
   "cell_type": "code",
   "execution_count": null,
   "outputs": [],
   "source": [],
   "metadata": {
    "collapsed": false,
    "pycharm": {
     "name": "#%%\n"
    }
   }
  }
 ],
 "metadata": {
  "kernelspec": {
   "name": "pycharm-29b8b5fb",
   "language": "python",
   "display_name": "PyCharm (ppinn)"
  },
  "language_info": {
   "codemirror_mode": {
    "name": "ipython",
    "version": 2
   },
   "file_extension": ".py",
   "mimetype": "text/x-python",
   "name": "python",
   "nbconvert_exporter": "python",
   "pygments_lexer": "ipython2",
   "version": "2.7.6"
  }
 },
 "nbformat": 4,
 "nbformat_minor": 0
}