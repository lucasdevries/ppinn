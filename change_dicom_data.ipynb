{
 "cells": [
  {
   "cell_type": "code",
   "execution_count": 14,
   "metadata": {
    "collapsed": true
   },
   "outputs": [],
   "source": [
    "import SimpleITK as sitk\n",
    "import pydicom\n",
    "import numpy as np\n",
    "import glob, os\n",
    "from skimage.filters import gaussian\n",
    "from tqdm import tqdm\n",
    "import SimpleITK as sitk\n",
    "from einops.einops import rearrange"
   ]
  },
  {
   "cell_type": "code",
   "execution_count": 19,
   "outputs": [
    {
     "name": "stderr",
     "output_type": "stream",
     "text": [
      "30it [00:00, 211.27it/s]\n"
     ]
    }
   ],
   "source": [
    "sd = 0\n",
    "files = glob.glob(rf'data/DigitalPhantomCT_SD_{sd}_not_normalized/*')\n",
    "vof_location = (410, 247, 16)  # start, start, size\n",
    "aif_location = (123, 251, 8)  # start, start, size\n",
    "aif_values_rescaled_nosmoothing = [40.88909, 39.572624, 39.66895, 40.150585, 39.861603, 41.17807, 41.17807, 259.03726, 494.58847, 447.00302, 291.8205, 170.57712, 100.96492, 64.71393, 49.847485, 44.93482, 42.494537, 40.150585, 39.508408, 38.320374, 40.95331, 39.572624, 40.150585, 41.24229, 41.402832, 39.829494, 39.219425, 39.37997, 41.659706, 38.994663]\n",
    "for ix, file in tqdm(enumerate(files[::16])):\n",
    "    ds = pydicom.dcmread(file)\n",
    "    data = ds.pixel_array\n",
    "    new_aif_value = aif_values_rescaled_nosmoothing[ix]\n",
    "    new_aif_array = np.tile(np.array(new_aif_value), (8, 8))\n",
    "    # data[aif_location[0]:aif_location[0] + aif_location[2],\n",
    "    #            aif_location[1]:aif_location[1] + aif_location[2]] = new_aif_array\n",
    "    # copy the data back to the original data set\n",
    "    ds.PixelData = data.tobytes()\n",
    "    # print('The information of the data set after downsampling: \\n')\n",
    "    # print(ds.pixel_array[aif_location[0]:aif_location[0] + aif_location[2],\n",
    "    #            aif_location[1]:aif_location[1] + aif_location[2]])\n",
    "    ds.save_as(file)"
   ],
   "metadata": {
    "collapsed": false,
    "pycharm": {
     "name": "#%%\n"
    }
   }
  },
  {
   "cell_type": "code",
   "execution_count": 20,
   "outputs": [
    {
     "name": "stderr",
     "output_type": "stream",
     "text": [
      "450it [00:02, 194.38it/s]\n"
     ]
    }
   ],
   "source": [
    "\n",
    "simulated_data_size = 32 * 7\n",
    "scan_center = 512 // 2\n",
    "simulated_data_start = scan_center - simulated_data_size // 2\n",
    "simulated_data_end = scan_center + simulated_data_size // 2\n",
    "other_files = sorted([file for file in files if file not in files[::16]])\n",
    "\n",
    "for ix, file in tqdm(enumerate(other_files)):\n",
    "    ds = pydicom.dcmread(file)\n",
    "    data = ds.pixel_array\n",
    "    phantomcurves = data[simulated_data_start:simulated_data_end,\n",
    "                         simulated_data_start:simulated_data_end]\n",
    "    truncate = np.ceil(2 * sd) / sd if sd != 0 else 0\n",
    "    phantomcurves = gaussian(phantomcurves, sigma=(sd, sd), mode='nearest', truncate=truncate, preserve_range=True).astype(np.int16)\n",
    "    data[simulated_data_start:simulated_data_end, simulated_data_start:simulated_data_end] = phantomcurves\n",
    "    ds.PixelData = data.tobytes()\n",
    "    ds.save_as(file)\n"
   ],
   "metadata": {
    "collapsed": false,
    "pycharm": {
     "name": "#%%\n"
    }
   }
  },
  {
   "cell_type": "code",
   "execution_count": 12,
   "outputs": [],
   "source": [
    "# directory = r\"C:\\Users\\lucasdevries\\surfdrive\\Projects\\ppinn\\data\\PPINN0_KUDO_SD_0\"\n",
    "# reader = sitk.ImageSeriesReader()\n",
    "# dicom_names = reader.GetGDCMSeriesFileNames(directory)\n",
    "# reader.SetFileNames(dicom_names)\n",
    "# image = reader.Execute()\n",
    "# image_data = sitk.GetArrayFromImage(image)\n",
    "# image_data = rearrange(image_data, '(t values) h w -> values t h w', t=30)"
   ],
   "metadata": {
    "collapsed": false,
    "pycharm": {
     "name": "#%%\n"
    }
   }
  },
  {
   "cell_type": "code",
   "execution_count": 13,
   "outputs": [
    {
     "data": {
      "text/plain": "(16, 30, 512, 512)"
     },
     "execution_count": 13,
     "metadata": {},
     "output_type": "execute_result"
    }
   ],
   "source": [
    "# image_data.shape"
   ],
   "metadata": {
    "collapsed": false,
    "pycharm": {
     "name": "#%%\n"
    }
   }
  },
  {
   "cell_type": "code",
   "execution_count": 8,
   "outputs": [],
   "source": [
    "# path = r'C:\\Users\\lucasdevries\\surfdrive\\Projects\\ppinn\\data\\image_data_sd_2.nii'\n",
    "# image_data_nii = sitk.ReadImage(path)"
   ],
   "metadata": {
    "collapsed": false,
    "pycharm": {
     "name": "#%%\n"
    }
   }
  },
  {
   "cell_type": "code",
   "execution_count": 10,
   "outputs": [
    {
     "data": {
      "text/plain": "(224, 224, 15, 30)"
     },
     "execution_count": 10,
     "metadata": {},
     "output_type": "execute_result"
    }
   ],
   "source": [
    "# sitk.GetArrayFromImage(image_data_nii).shape"
   ],
   "metadata": {
    "collapsed": false,
    "pycharm": {
     "name": "#%%\n"
    }
   }
  },
  {
   "cell_type": "code",
   "execution_count": null,
   "outputs": [],
   "source": [],
   "metadata": {
    "collapsed": false,
    "pycharm": {
     "name": "#%%\n"
    }
   }
  }
 ],
 "metadata": {
  "kernelspec": {
   "name": "pycharm-29b8b5fb",
   "language": "python",
   "display_name": "PyCharm (ppinn)"
  },
  "language_info": {
   "codemirror_mode": {
    "name": "ipython",
    "version": 2
   },
   "file_extension": ".py",
   "mimetype": "text/x-python",
   "name": "python",
   "nbconvert_exporter": "python",
   "pygments_lexer": "ipython2",
   "version": "2.7.6"
  }
 },
 "nbformat": 4,
 "nbformat_minor": 0
}