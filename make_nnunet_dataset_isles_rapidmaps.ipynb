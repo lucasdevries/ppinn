{
 "cells": [
  {
   "cell_type": "code",
   "execution_count": 3,
   "metadata": {
    "collapsed": true
   },
   "outputs": [],
   "source": [
    "import glob, os\n",
    "import numpy as np\n",
    "from tqdm import tqdm\n",
    "import SimpleITK as sitk\n",
    "\n",
    "import matplotlib.pyplot as plt\n",
    "from utils.data_utils import np2itk"
   ]
  },
  {
   "cell_type": "code",
   "execution_count": 4,
   "outputs": [],
   "source": [
    "isles_dir = r'data/ISLES2018/TRAINING'\n",
    "cases = os.listdir(isles_dir)"
   ],
   "metadata": {
    "collapsed": false,
    "pycharm": {
     "name": "#%%\n"
    }
   }
  },
  {
   "cell_type": "code",
   "execution_count": 6,
   "outputs": [
    {
     "name": "stderr",
     "output_type": "stream",
     "text": [
      "100%|██████████| 94/94 [00:24<00:00,  3.78it/s]\n"
     ]
    }
   ],
   "source": [
    "modality = {'cbf':'0000',\n",
    "            'cbv':'0001',\n",
    "            'mtt':'0002',\n",
    "            'delay':'0003',\n",
    "            'tmax':'0004'}\n",
    "\n",
    "for case in tqdm(cases):\n",
    "    filepath_cbf = glob.glob(os.path.join(isles_dir,case,'*CBF*/*CBF*.nii'))[0]\n",
    "    filepath_cbv = glob.glob(os.path.join(isles_dir,case,'*CBV*/*CBV*.nii'))[0]\n",
    "    filepath_mtt = glob.glob(os.path.join(isles_dir,case,'*MTT*/*MTT*.nii'))[0]\n",
    "    filepath_tmax = glob.glob(os.path.join(isles_dir,case,'*Tmax*/*Tmax*.nii'))[0]\n",
    "    filepath_seg = glob.glob(os.path.join(isles_dir,case,'*OT*/*OT*.nii'))[0]\n",
    "\n",
    "    data = {}\n",
    "    data['cbf'] = sitk.GetArrayFromImage(sitk.ReadImage(filepath_cbf))\n",
    "    data['cbv'] = sitk.GetArrayFromImage(sitk.ReadImage(filepath_cbv))\n",
    "    data['mtt' ]= sitk.GetArrayFromImage(sitk.ReadImage(filepath_mtt))\n",
    "    data['tmax'] = sitk.GetArrayFromImage(sitk.ReadImage(filepath_tmax))\n",
    "    data['delay'] =  data['tmax'] - 0.5*data['mtt']\n",
    "    data['seg'] = sitk.GetArrayFromImage(sitk.ReadImage(filepath_seg))\n",
    "    data['template'] = sitk.ReadImage(filepath_cbf)\n",
    "\n",
    "    for key, val in data.items():\n",
    "        if key != 'template':\n",
    "            data[key] = np2itk(val, data['template'])\n",
    "\n",
    "    for key, val in data.items():\n",
    "        if key != 'template' and key != 'seg':\n",
    "            sitk.WriteImage(val, rf'data/Task501_ISLESRAPID/imagesTr/{case}_{modality[key]}.nii.gz')\n",
    "        if key == 'seg':\n",
    "            sitk.WriteImage(val, rf'data/Task501_ISLESRAPID/labelsTr/{case}.nii.gz')\n"
   ],
   "metadata": {
    "collapsed": false,
    "pycharm": {
     "name": "#%%\n"
    }
   }
  },
  {
   "cell_type": "code",
   "execution_count": 24,
   "outputs": [],
   "source": [
    "def read_fold_file(letter):\n",
    "    with open(rf\"C:\\Users\\lucasdevries\\surfdrive\\Projects\\perfu-net\\data\\train\\fold_{letter}.txt\") as f:\n",
    "        fold_a = f.readlines()[0].split(',')\n",
    "        return [f'case_{int(line)}' for line in fold_a]"
   ],
   "metadata": {
    "collapsed": false,
    "pycharm": {
     "name": "#%%\n"
    }
   }
  },
  {
   "cell_type": "code",
   "execution_count": 26,
   "outputs": [],
   "source": [
    "fold_a = read_fold_file('a')\n",
    "fold_b = read_fold_file('b')\n",
    "fold_c = read_fold_file('c')\n",
    "fold_d = read_fold_file('d')"
   ],
   "metadata": {
    "collapsed": false,
    "pycharm": {
     "name": "#%%\n"
    }
   }
  },
  {
   "cell_type": "code",
   "execution_count": 28,
   "outputs": [],
   "source": [
    "fold = [\n",
    "    {'train': [*fold_b, *fold_c, *fold_d], 'val': fold_a},\n",
    "    {'train': [*fold_c, *fold_a, *fold_d], 'val': fold_b},\n",
    "    {'train': [*fold_b, *fold_a, *fold_d], 'val': fold_c},\n",
    "    {'train': [*fold_b, *fold_c, *fold_a], 'val': fold_d}\n",
    "]"
   ],
   "metadata": {
    "collapsed": false,
    "pycharm": {
     "name": "#%%\n"
    }
   }
  },
  {
   "cell_type": "code",
   "execution_count": 29,
   "outputs": [
    {
     "data": {
      "text/plain": "[{'train': ['case_3',\n   'case_4',\n   'case_10',\n   'case_15',\n   'case_25',\n   'case_21',\n   'case_22',\n   'case_32',\n   'case_33',\n   'case_41',\n   'case_42',\n   'case_47',\n   'case_48',\n   'case_51',\n   'case_52',\n   'case_57',\n   'case_58',\n   'case_38',\n   'case_78',\n   'case_79',\n   'case_84',\n   'case_85',\n   'case_86',\n   'case_5',\n   'case_6',\n   'case_11',\n   'case_12',\n   'case_16',\n   'case_23',\n   'case_24',\n   'case_34',\n   'case_35',\n   'case_43',\n   'case_44',\n   'case_55',\n   'case_56',\n   'case_68',\n   'case_69',\n   'case_75',\n   'case_76',\n   'case_61',\n   'case_88',\n   'case_89',\n   'case_90',\n   'case_28',\n   'case_29',\n   'case_87',\n   'case_7',\n   'case_8',\n   'case_13',\n   'case_17',\n   'case_20',\n   'case_26',\n   'case_27',\n   'case_36',\n   'case_37',\n   'case_45',\n   'case_46',\n   'case_49',\n   'case_50',\n   'case_53',\n   'case_54',\n   'case_64',\n   'case_65',\n   'case_70',\n   'case_71',\n   'case_62',\n   'case_63',\n   'case_74',\n   'case_77'],\n  'val': ['case_1',\n   'case_2',\n   'case_9',\n   'case_14',\n   'case_30',\n   'case_18',\n   'case_19',\n   'case_39',\n   'case_40',\n   'case_66',\n   'case_67',\n   'case_59',\n   'case_60',\n   'case_72',\n   'case_73',\n   'case_31',\n   'case_80',\n   'case_81',\n   'case_82',\n   'case_83',\n   'case_91',\n   'case_92',\n   'case_93',\n   'case_94']},\n {'train': ['case_5',\n   'case_6',\n   'case_11',\n   'case_12',\n   'case_16',\n   'case_23',\n   'case_24',\n   'case_34',\n   'case_35',\n   'case_43',\n   'case_44',\n   'case_55',\n   'case_56',\n   'case_68',\n   'case_69',\n   'case_75',\n   'case_76',\n   'case_61',\n   'case_88',\n   'case_89',\n   'case_90',\n   'case_28',\n   'case_29',\n   'case_87',\n   'case_1',\n   'case_2',\n   'case_9',\n   'case_14',\n   'case_30',\n   'case_18',\n   'case_19',\n   'case_39',\n   'case_40',\n   'case_66',\n   'case_67',\n   'case_59',\n   'case_60',\n   'case_72',\n   'case_73',\n   'case_31',\n   'case_80',\n   'case_81',\n   'case_82',\n   'case_83',\n   'case_91',\n   'case_92',\n   'case_93',\n   'case_94',\n   'case_7',\n   'case_8',\n   'case_13',\n   'case_17',\n   'case_20',\n   'case_26',\n   'case_27',\n   'case_36',\n   'case_37',\n   'case_45',\n   'case_46',\n   'case_49',\n   'case_50',\n   'case_53',\n   'case_54',\n   'case_64',\n   'case_65',\n   'case_70',\n   'case_71',\n   'case_62',\n   'case_63',\n   'case_74',\n   'case_77'],\n  'val': ['case_3',\n   'case_4',\n   'case_10',\n   'case_15',\n   'case_25',\n   'case_21',\n   'case_22',\n   'case_32',\n   'case_33',\n   'case_41',\n   'case_42',\n   'case_47',\n   'case_48',\n   'case_51',\n   'case_52',\n   'case_57',\n   'case_58',\n   'case_38',\n   'case_78',\n   'case_79',\n   'case_84',\n   'case_85',\n   'case_86']},\n {'train': ['case_3',\n   'case_4',\n   'case_10',\n   'case_15',\n   'case_25',\n   'case_21',\n   'case_22',\n   'case_32',\n   'case_33',\n   'case_41',\n   'case_42',\n   'case_47',\n   'case_48',\n   'case_51',\n   'case_52',\n   'case_57',\n   'case_58',\n   'case_38',\n   'case_78',\n   'case_79',\n   'case_84',\n   'case_85',\n   'case_86',\n   'case_1',\n   'case_2',\n   'case_9',\n   'case_14',\n   'case_30',\n   'case_18',\n   'case_19',\n   'case_39',\n   'case_40',\n   'case_66',\n   'case_67',\n   'case_59',\n   'case_60',\n   'case_72',\n   'case_73',\n   'case_31',\n   'case_80',\n   'case_81',\n   'case_82',\n   'case_83',\n   'case_91',\n   'case_92',\n   'case_93',\n   'case_94',\n   'case_7',\n   'case_8',\n   'case_13',\n   'case_17',\n   'case_20',\n   'case_26',\n   'case_27',\n   'case_36',\n   'case_37',\n   'case_45',\n   'case_46',\n   'case_49',\n   'case_50',\n   'case_53',\n   'case_54',\n   'case_64',\n   'case_65',\n   'case_70',\n   'case_71',\n   'case_62',\n   'case_63',\n   'case_74',\n   'case_77'],\n  'val': ['case_5',\n   'case_6',\n   'case_11',\n   'case_12',\n   'case_16',\n   'case_23',\n   'case_24',\n   'case_34',\n   'case_35',\n   'case_43',\n   'case_44',\n   'case_55',\n   'case_56',\n   'case_68',\n   'case_69',\n   'case_75',\n   'case_76',\n   'case_61',\n   'case_88',\n   'case_89',\n   'case_90',\n   'case_28',\n   'case_29',\n   'case_87']},\n {'train': ['case_3',\n   'case_4',\n   'case_10',\n   'case_15',\n   'case_25',\n   'case_21',\n   'case_22',\n   'case_32',\n   'case_33',\n   'case_41',\n   'case_42',\n   'case_47',\n   'case_48',\n   'case_51',\n   'case_52',\n   'case_57',\n   'case_58',\n   'case_38',\n   'case_78',\n   'case_79',\n   'case_84',\n   'case_85',\n   'case_86',\n   'case_5',\n   'case_6',\n   'case_11',\n   'case_12',\n   'case_16',\n   'case_23',\n   'case_24',\n   'case_34',\n   'case_35',\n   'case_43',\n   'case_44',\n   'case_55',\n   'case_56',\n   'case_68',\n   'case_69',\n   'case_75',\n   'case_76',\n   'case_61',\n   'case_88',\n   'case_89',\n   'case_90',\n   'case_28',\n   'case_29',\n   'case_87',\n   'case_1',\n   'case_2',\n   'case_9',\n   'case_14',\n   'case_30',\n   'case_18',\n   'case_19',\n   'case_39',\n   'case_40',\n   'case_66',\n   'case_67',\n   'case_59',\n   'case_60',\n   'case_72',\n   'case_73',\n   'case_31',\n   'case_80',\n   'case_81',\n   'case_82',\n   'case_83',\n   'case_91',\n   'case_92',\n   'case_93',\n   'case_94'],\n  'val': ['case_7',\n   'case_8',\n   'case_13',\n   'case_17',\n   'case_20',\n   'case_26',\n   'case_27',\n   'case_36',\n   'case_37',\n   'case_45',\n   'case_46',\n   'case_49',\n   'case_50',\n   'case_53',\n   'case_54',\n   'case_64',\n   'case_65',\n   'case_70',\n   'case_71',\n   'case_62',\n   'case_63',\n   'case_74',\n   'case_77']}]"
     },
     "execution_count": 29,
     "metadata": {},
     "output_type": "execute_result"
    }
   ],
   "source": [
    "fold\n"
   ],
   "metadata": {
    "collapsed": false,
    "pycharm": {
     "name": "#%%\n"
    }
   }
  },
  {
   "cell_type": "code",
   "execution_count": null,
   "outputs": [],
   "source": [],
   "metadata": {
    "collapsed": false,
    "pycharm": {
     "name": "#%%\n"
    }
   }
  }
 ],
 "metadata": {
  "kernelspec": {
   "name": "pycharm-29b8b5fb",
   "language": "python",
   "display_name": "PyCharm (ppinn)"
  },
  "language_info": {
   "codemirror_mode": {
    "name": "ipython",
    "version": 2
   },
   "file_extension": ".py",
   "mimetype": "text/x-python",
   "name": "python",
   "nbconvert_exporter": "python",
   "pygments_lexer": "ipython2",
   "version": "2.7.6"
  }
 },
 "nbformat": 4,
 "nbformat_minor": 0
}