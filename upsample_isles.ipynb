{
 "cells": [
  {
   "cell_type": "code",
   "execution_count": 1,
   "metadata": {
    "collapsed": true
   },
   "outputs": [],
   "source": [
    "import SimpleITK as sitk\n",
    "import pydicom\n",
    "import numpy as np\n",
    "import glob, os\n",
    "from skimage.filters import gaussian\n",
    "from tqdm import tqdm\n",
    "import SimpleITK as sitk\n",
    "from einops.einops import rearrange"
   ]
  },
  {
   "cell_type": "code",
   "execution_count": 2,
   "outputs": [],
   "source": [
    "def new_img_size(img,new_spacing):\n",
    "                if isinstance(new_spacing,int) or isinstance(new_spacing,float):\n",
    "                                new_spacing = [new_spacing,new_spacing,new_spacing]\n",
    "                new_size = []\n",
    "                for ix,sp in enumerate(new_spacing):\n",
    "                                new_size.append(int(np.ceil(img.GetSize()[ix]*img.GetSpacing()[ix]/sp)))\n",
    "                return new_size\n",
    "\n",
    "def Resample_img(img, new_spacing=0.45, interpolator=sitk.sitkLinear):\n",
    "                # new_spacing should be in sitk order x,y,z (np order: z,y,x)\n",
    "                if isinstance(new_spacing,int) or isinstance(new_spacing,float):\n",
    "                                new_spacing = [new_spacing,new_spacing,new_spacing]\n",
    "                #https://github.com/SimpleITK/SimpleITK/issues/561\n",
    "                resample = sitk.ResampleImageFilter()\n",
    "                resample.SetInterpolator = interpolator\n",
    "                resample.SetOutputDirection(img.GetDirection())\n",
    "                resample.SetOutputOrigin(img.GetOrigin())\n",
    "                resample.SetOutputSpacing(new_spacing)\n",
    "                new_size = new_img_size(img,new_spacing)\n",
    "                resample.SetSize(new_size)\n",
    "                img = resample.Execute(img)\n",
    "                img = sitk.Cast(img, sitk.sitkInt32)\n",
    "                return img"
   ],
   "metadata": {
    "collapsed": false,
    "pycharm": {
     "name": "#%%\n"
    }
   }
  },
  {
   "cell_type": "code",
   "execution_count": 3,
   "outputs": [],
   "source": [
    "savedir = r'data/results_ppinn_isles_upsampled'\n",
    "readdir = r'data/results_ppinn_isles'\n",
    "cases = os.listdir(readdir)"
   ],
   "metadata": {
    "collapsed": false,
    "pycharm": {
     "name": "#%%\n"
    }
   }
  },
  {
   "cell_type": "code",
   "execution_count": 4,
   "outputs": [
    {
     "name": "stdout",
     "output_type": "stream",
     "text": [
      "[0 1]\n",
      "[0 1]\n",
      "[0 1]\n",
      "[0 1]\n",
      "[0 1]\n",
      "[0 1]\n",
      "[0 1]\n",
      "[0 1]\n",
      "[0 1]\n",
      "[0 1]\n",
      "[0 1]\n",
      "[0 1]\n",
      "[0 1]\n",
      "[0 1]\n",
      "[0 1]\n",
      "[0 1]\n",
      "[0 1]\n",
      "[0 1]\n",
      "[0 1]\n",
      "[0 1]\n",
      "[0 1]\n",
      "[0 1]\n",
      "[0 1]\n",
      "[0 1]\n",
      "[0 1]\n",
      "[0 1]\n",
      "[0 1]\n",
      "[0 1]\n",
      "[0 1]\n",
      "[0 1]\n",
      "[0 1]\n",
      "[0 1]\n",
      "[0 1]\n",
      "[0 1]\n",
      "[0 1]\n",
      "[0 1]\n",
      "[0 1]\n",
      "[0 1]\n",
      "[0 1]\n",
      "[0 1]\n",
      "[0 1]\n",
      "[0 1]\n",
      "[0 1]\n",
      "[0 1]\n",
      "[0 1]\n",
      "[0 1]\n",
      "[0 1]\n",
      "[0 1]\n",
      "[0 1]\n",
      "[0 1]\n",
      "[0 1]\n",
      "[0 1]\n",
      "[0 1]\n",
      "[0 1]\n",
      "[0 1]\n",
      "[0 1]\n",
      "[0 1]\n",
      "[0 1]\n",
      "[0 1]\n",
      "[0 1]\n",
      "[0 1]\n",
      "[0 1]\n",
      "[0 1]\n",
      "[0 1]\n",
      "[0 1]\n",
      "[0 1]\n",
      "[0 1]\n",
      "[0 1]\n",
      "[0 1]\n",
      "[0 1]\n",
      "[0 1]\n",
      "[0 1]\n",
      "[0 1]\n",
      "[0 1]\n",
      "[0 1]\n",
      "[0 1]\n",
      "[0 1]\n",
      "[0 1]\n",
      "[0 1]\n",
      "[0 1]\n",
      "[0 1]\n",
      "[0 1]\n",
      "[0 1]\n",
      "[0 1]\n",
      "[0 1]\n",
      "[0 1]\n",
      "[0 1]\n",
      "[0 1]\n",
      "[0 1]\n",
      "[0 1]\n",
      "[0 1]\n",
      "[0 1]\n",
      "[0 1]\n",
      "[0 1]\n"
     ]
    }
   ],
   "source": [
    "for case in cases:\n",
    "    os.makedirs(os.path.join(savedir,case), exist_ok=True)\n",
    "    data = {}\n",
    "    data['seg'] = sitk.ReadImage(os.path.join(readdir,case,'dwi_seg.nii'))\n",
    "    data['cbf'] = sitk.ReadImage(os.path.join(readdir,case,'cbf.nii'))\n",
    "    data['cbv'] = sitk.ReadImage(os.path.join(readdir,case,'cbv.nii'))\n",
    "    data['mtt' ]= sitk.ReadImage(os.path.join(readdir,case,'mtt.nii'))\n",
    "    data['delay'] = sitk.ReadImage(os.path.join(readdir,case,'delay.nii'))\n",
    "    data['tmax'] = sitk.ReadImage(os.path.join(readdir,case,'tmax.nii'))\n",
    "    # get spacing an define new spacing\n",
    "    spacing = data['seg'].GetSpacing()\n",
    "    new_spacing = [spacing[0]/2, spacing[1]/2, spacing[2]]\n",
    "    for key, val in data.items():\n",
    "        resampled = Resample_img(data[key], new_spacing=new_spacing)\n",
    "        if key == 'seg':\n",
    "            print(np.unique(sitk.GetArrayFromImage(resampled)))\n",
    "        sitk.WriteImage(resampled, os.path.join(savedir,case,rf'{key}.nii.gz'))"
   ],
   "metadata": {
    "collapsed": false,
    "pycharm": {
     "name": "#%%\n"
    }
   }
  },
  {
   "cell_type": "code",
   "execution_count": null,
   "outputs": [],
   "source": [],
   "metadata": {
    "collapsed": false,
    "pycharm": {
     "name": "#%%\n"
    }
   }
  }
 ],
 "metadata": {
  "kernelspec": {
   "name": "pycharm-29b8b5fb",
   "language": "python",
   "display_name": "PyCharm (ppinn)"
  },
  "language_info": {
   "codemirror_mode": {
    "name": "ipython",
    "version": 2
   },
   "file_extension": ".py",
   "mimetype": "text/x-python",
   "name": "python",
   "nbconvert_exporter": "python",
   "pygments_lexer": "ipython2",
   "version": "2.7.6"
  }
 },
 "nbformat": 4,
 "nbformat_minor": 0
}