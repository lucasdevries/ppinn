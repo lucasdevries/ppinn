{
 "cells": [
  {
   "cell_type": "code",
   "execution_count": 1,
   "metadata": {
    "collapsed": true,
    "pycharm": {
     "name": "#%%\n"
    }
   },
   "outputs": [],
   "source": [
    "import os, glob\n",
    "import shutil\n",
    "import matplotlib.pyplot as plt\n",
    "import SimpleITK as sitk\n",
    "import numpy as np\n",
    "from scipy.integrate import simpson\n",
    "from skimage.filters import gaussian\n",
    "from einops.einops import rearrange\n",
    "\n",
    "from utils.data_utils import apply_gaussian_filter, normalize_data, get_coll_points, get_tensors"
   ]
  },
  {
   "cell_type": "code",
   "execution_count": 19,
   "outputs": [],
   "source": [
    "def read_nii_folder(folder):\n",
    "    scans = sorted(glob.glob(folder))\n",
    "    reader = sitk.ImageSeriesReader()\n",
    "    reader.SetFileNames(scans)\n",
    "    image = reader.Execute()\n",
    "    data_dict = {'array': sitk.GetArrayFromImage(image).astype(np.float32),\n",
    "                 'spacing': image.GetSpacing(),\n",
    "                 'dims': image.GetSize(),\n",
    "                 'shape': sitk.GetArrayFromImage(image).shape}\n",
    "    return data_dict\n",
    "def load_data_AMC(gaussian_filter_type, sd=2.5,\n",
    "                    folder=r'L:\\basic\\divi\\CMAJOIE\\CLEOPATRA\\Substudies\\Lucas\\AMC_DWI_CTP_within2hrs_cleaned',\n",
    "                    case='C102'):\n",
    "    aif_location = os.path.join(folder, rf'AIF_annotations\\{case}\\aif.nii.gz')\n",
    "    vof_location = os.path.join(folder, rf'VOF_annotations\\{case}\\vof.nii.gz')\n",
    "    time_matrix = os.path.join(folder, rf'CTP_time_matrix\\{case}\\matrix.npy')\n",
    "    ctp_folder = os.path.join(folder, rf'CTP_nii_registered\\{case}\\*.nii.gz')\n",
    "    brainmask = os.path.join(folder, rf'CTP_nii_brainmask\\{case}\\brainmask.nii.gz')\n",
    "    # load image data\n",
    "    image_data_dict = read_nii_folder(ctp_folder)\n",
    "    # load time matrix\n",
    "    time_data = np.load(time_matrix)\n",
    "    # load aif and vof locations\n",
    "    aif_location = sitk.GetArrayFromImage(sitk.ReadImage(aif_location))\n",
    "    vof_location = sitk.GetArrayFromImage(sitk.ReadImage(vof_location))\n",
    "    time_aif_location = list(set(np.where(aif_location == 1)[0]))[0]\n",
    "    time_vof_location = list(set(np.where(vof_location == 1)[0]))[0]\n",
    "    # load brainmask\n",
    "    brainmask_data = sitk.GetArrayFromImage(sitk.ReadImage(brainmask))\n",
    "    image_data_dict['array'] = np.multiply(image_data_dict['array'], brainmask_data)\n",
    "    # get aif and vof data\n",
    "    aif_data = np.sum(np.multiply(aif_location, image_data_dict['array']), axis=(1,2,3)) / np.sum(aif_location)\n",
    "    vof_data = np.sum(np.multiply(vof_location, image_data_dict['array']), axis=(1,2,3)) / np.sum(vof_location)\n",
    "    aif_time_data = time_data[time_aif_location]\n",
    "    vof_time_data = time_data[time_vof_location]\n",
    "    # scale aif\n",
    "    vof_baseline = np.mean(vof_data[:4])\n",
    "    aif_baseline = np.mean(aif_data[:4])\n",
    "    aif_wo_baseline = aif_data - aif_baseline\n",
    "    vof_wo_baseline = vof_data - vof_baseline\n",
    "    # now we use simpsons approximation because of irregular timing\n",
    "    cumsum_aif = simpson(aif_wo_baseline, aif_time_data)\n",
    "    cumsum_vof = simpson(vof_wo_baseline, vof_time_data)\n",
    "    ratio = cumsum_vof / cumsum_aif\n",
    "    aif_data = aif_wo_baseline * ratio + aif_baseline\n",
    "    # If smoothing, apply here\n",
    "    if gaussian_filter_type:\n",
    "        image_data_dict['array'] = apply_gaussian_filter(gaussian_filter_type, image_data_dict['array'].copy(), sd=sd)\n",
    "    image_data_dict['array'] = image_data_dict['array'].astype(np.float32)\n",
    "    image_data_dict['array'] = rearrange(image_data_dict['array'], 't d h w -> d h w t')\n",
    "    # get high res time sample for plotting purposes\n",
    "    time_inference_highres = np.array([float(x) for x in np.arange(np.min(time_data), np.max(time_data), 0.1)])\n",
    "\n",
    "    data_dict = {'aif': aif_data,\n",
    "                 'vof': vof_data,\n",
    "                 'time': time_data,\n",
    "                 'time_inference_highres': time_inference_highres,\n",
    "                 'curves': image_data_dict['array'],\n",
    "                 'brainmask': brainmask_data}\n",
    "\n",
    "    data_dict = normalize_data(data_dict)\n",
    "    data_dict = get_coll_points(data_dict)\n",
    "    data_dict = get_tensors(data_dict)\n",
    "    return data_dict"
   ],
   "metadata": {
    "collapsed": false,
    "pycharm": {
     "name": "#%%\n"
    }
   }
  },
  {
   "cell_type": "code",
   "execution_count": 21,
   "outputs": [
    {
     "name": "stdout",
     "output_type": "stream",
     "text": [
      "C116\n",
      "L:\\basic\\divi\\CMAJOIE\\CLEOPATRA\\Substudies\\Lucas\\AMC_DWI_CTP_within2hrs_cleaned\\CTP_nii_registered\\C116\\*.nii.gz\n",
      "['L:\\\\basic\\\\divi\\\\CMAJOIE\\\\CLEOPATRA\\\\Substudies\\\\Lucas\\\\AMC_DWI_CTP_within2hrs_cleaned\\\\CTP_nii_registered\\\\C116\\\\00.nii.gz', 'L:\\\\basic\\\\divi\\\\CMAJOIE\\\\CLEOPATRA\\\\Substudies\\\\Lucas\\\\AMC_DWI_CTP_within2hrs_cleaned\\\\CTP_nii_registered\\\\C116\\\\01.nii.gz', 'L:\\\\basic\\\\divi\\\\CMAJOIE\\\\CLEOPATRA\\\\Substudies\\\\Lucas\\\\AMC_DWI_CTP_within2hrs_cleaned\\\\CTP_nii_registered\\\\C116\\\\02.nii.gz', 'L:\\\\basic\\\\divi\\\\CMAJOIE\\\\CLEOPATRA\\\\Substudies\\\\Lucas\\\\AMC_DWI_CTP_within2hrs_cleaned\\\\CTP_nii_registered\\\\C116\\\\03.nii.gz', 'L:\\\\basic\\\\divi\\\\CMAJOIE\\\\CLEOPATRA\\\\Substudies\\\\Lucas\\\\AMC_DWI_CTP_within2hrs_cleaned\\\\CTP_nii_registered\\\\C116\\\\04.nii.gz', 'L:\\\\basic\\\\divi\\\\CMAJOIE\\\\CLEOPATRA\\\\Substudies\\\\Lucas\\\\AMC_DWI_CTP_within2hrs_cleaned\\\\CTP_nii_registered\\\\C116\\\\05.nii.gz', 'L:\\\\basic\\\\divi\\\\CMAJOIE\\\\CLEOPATRA\\\\Substudies\\\\Lucas\\\\AMC_DWI_CTP_within2hrs_cleaned\\\\CTP_nii_registered\\\\C116\\\\06.nii.gz', 'L:\\\\basic\\\\divi\\\\CMAJOIE\\\\CLEOPATRA\\\\Substudies\\\\Lucas\\\\AMC_DWI_CTP_within2hrs_cleaned\\\\CTP_nii_registered\\\\C116\\\\07.nii.gz', 'L:\\\\basic\\\\divi\\\\CMAJOIE\\\\CLEOPATRA\\\\Substudies\\\\Lucas\\\\AMC_DWI_CTP_within2hrs_cleaned\\\\CTP_nii_registered\\\\C116\\\\08.nii.gz', 'L:\\\\basic\\\\divi\\\\CMAJOIE\\\\CLEOPATRA\\\\Substudies\\\\Lucas\\\\AMC_DWI_CTP_within2hrs_cleaned\\\\CTP_nii_registered\\\\C116\\\\09.nii.gz', 'L:\\\\basic\\\\divi\\\\CMAJOIE\\\\CLEOPATRA\\\\Substudies\\\\Lucas\\\\AMC_DWI_CTP_within2hrs_cleaned\\\\CTP_nii_registered\\\\C116\\\\10.nii.gz', 'L:\\\\basic\\\\divi\\\\CMAJOIE\\\\CLEOPATRA\\\\Substudies\\\\Lucas\\\\AMC_DWI_CTP_within2hrs_cleaned\\\\CTP_nii_registered\\\\C116\\\\11.nii.gz', 'L:\\\\basic\\\\divi\\\\CMAJOIE\\\\CLEOPATRA\\\\Substudies\\\\Lucas\\\\AMC_DWI_CTP_within2hrs_cleaned\\\\CTP_nii_registered\\\\C116\\\\12.nii.gz', 'L:\\\\basic\\\\divi\\\\CMAJOIE\\\\CLEOPATRA\\\\Substudies\\\\Lucas\\\\AMC_DWI_CTP_within2hrs_cleaned\\\\CTP_nii_registered\\\\C116\\\\13.nii.gz', 'L:\\\\basic\\\\divi\\\\CMAJOIE\\\\CLEOPATRA\\\\Substudies\\\\Lucas\\\\AMC_DWI_CTP_within2hrs_cleaned\\\\CTP_nii_registered\\\\C116\\\\14.nii.gz', 'L:\\\\basic\\\\divi\\\\CMAJOIE\\\\CLEOPATRA\\\\Substudies\\\\Lucas\\\\AMC_DWI_CTP_within2hrs_cleaned\\\\CTP_nii_registered\\\\C116\\\\15.nii.gz', 'L:\\\\basic\\\\divi\\\\CMAJOIE\\\\CLEOPATRA\\\\Substudies\\\\Lucas\\\\AMC_DWI_CTP_within2hrs_cleaned\\\\CTP_nii_registered\\\\C116\\\\16.nii.gz', 'L:\\\\basic\\\\divi\\\\CMAJOIE\\\\CLEOPATRA\\\\Substudies\\\\Lucas\\\\AMC_DWI_CTP_within2hrs_cleaned\\\\CTP_nii_registered\\\\C116\\\\17.nii.gz', 'L:\\\\basic\\\\divi\\\\CMAJOIE\\\\CLEOPATRA\\\\Substudies\\\\Lucas\\\\AMC_DWI_CTP_within2hrs_cleaned\\\\CTP_nii_registered\\\\C116\\\\18.nii.gz', 'L:\\\\basic\\\\divi\\\\CMAJOIE\\\\CLEOPATRA\\\\Substudies\\\\Lucas\\\\AMC_DWI_CTP_within2hrs_cleaned\\\\CTP_nii_registered\\\\C116\\\\19.nii.gz', 'L:\\\\basic\\\\divi\\\\CMAJOIE\\\\CLEOPATRA\\\\Substudies\\\\Lucas\\\\AMC_DWI_CTP_within2hrs_cleaned\\\\CTP_nii_registered\\\\C116\\\\20.nii.gz', 'L:\\\\basic\\\\divi\\\\CMAJOIE\\\\CLEOPATRA\\\\Substudies\\\\Lucas\\\\AMC_DWI_CTP_within2hrs_cleaned\\\\CTP_nii_registered\\\\C116\\\\21.nii.gz', 'L:\\\\basic\\\\divi\\\\CMAJOIE\\\\CLEOPATRA\\\\Substudies\\\\Lucas\\\\AMC_DWI_CTP_within2hrs_cleaned\\\\CTP_nii_registered\\\\C116\\\\22.nii.gz', 'L:\\\\basic\\\\divi\\\\CMAJOIE\\\\CLEOPATRA\\\\Substudies\\\\Lucas\\\\AMC_DWI_CTP_within2hrs_cleaned\\\\CTP_nii_registered\\\\C116\\\\23.nii.gz', 'L:\\\\basic\\\\divi\\\\CMAJOIE\\\\CLEOPATRA\\\\Substudies\\\\Lucas\\\\AMC_DWI_CTP_within2hrs_cleaned\\\\CTP_nii_registered\\\\C116\\\\24.nii.gz', 'L:\\\\basic\\\\divi\\\\CMAJOIE\\\\CLEOPATRA\\\\Substudies\\\\Lucas\\\\AMC_DWI_CTP_within2hrs_cleaned\\\\CTP_nii_registered\\\\C116\\\\25.nii.gz', 'L:\\\\basic\\\\divi\\\\CMAJOIE\\\\CLEOPATRA\\\\Substudies\\\\Lucas\\\\AMC_DWI_CTP_within2hrs_cleaned\\\\CTP_nii_registered\\\\C116\\\\26.nii.gz', 'L:\\\\basic\\\\divi\\\\CMAJOIE\\\\CLEOPATRA\\\\Substudies\\\\Lucas\\\\AMC_DWI_CTP_within2hrs_cleaned\\\\CTP_nii_registered\\\\C116\\\\27.nii.gz', 'L:\\\\basic\\\\divi\\\\CMAJOIE\\\\CLEOPATRA\\\\Substudies\\\\Lucas\\\\AMC_DWI_CTP_within2hrs_cleaned\\\\CTP_nii_registered\\\\C116\\\\28.nii.gz', 'L:\\\\basic\\\\divi\\\\CMAJOIE\\\\CLEOPATRA\\\\Substudies\\\\Lucas\\\\AMC_DWI_CTP_within2hrs_cleaned\\\\CTP_nii_registered\\\\C116\\\\29.nii.gz', 'L:\\\\basic\\\\divi\\\\CMAJOIE\\\\CLEOPATRA\\\\Substudies\\\\Lucas\\\\AMC_DWI_CTP_within2hrs_cleaned\\\\CTP_nii_registered\\\\C116\\\\30.nii.gz', 'L:\\\\basic\\\\divi\\\\CMAJOIE\\\\CLEOPATRA\\\\Substudies\\\\Lucas\\\\AMC_DWI_CTP_within2hrs_cleaned\\\\CTP_nii_registered\\\\C116\\\\31.nii.gz', 'L:\\\\basic\\\\divi\\\\CMAJOIE\\\\CLEOPATRA\\\\Substudies\\\\Lucas\\\\AMC_DWI_CTP_within2hrs_cleaned\\\\CTP_nii_registered\\\\C116\\\\32.nii.gz']\n"
     ]
    }
   ],
   "source": [
    "cases = ['C102', 'C103', 'C104', 'C105', 'C106', 'C107', 'C108', 'C109', 'C110', 'C111', 'C112', 'C113', 'C114', 'C115', 'C116']\n",
    "cases = cases[-1:]\n",
    "for case in cases:\n",
    "    print(case)\n",
    "    load_data_AMC('gauss_spatial', case=case)"
   ],
   "metadata": {
    "collapsed": false,
    "pycharm": {
     "name": "#%%\n"
    }
   }
  },
  {
   "cell_type": "code",
   "execution_count": 97,
   "outputs": [],
   "source": [],
   "metadata": {
    "collapsed": false,
    "pycharm": {
     "name": "#%%\n"
    }
   }
  },
  {
   "cell_type": "code",
   "execution_count": null,
   "outputs": [],
   "source": [],
   "metadata": {
    "collapsed": false,
    "pycharm": {
     "name": "#%%\n"
    }
   }
  }
 ],
 "metadata": {
  "kernelspec": {
   "name": "pycharm-29b8b5fb",
   "language": "python",
   "display_name": "PyCharm (ppinn)"
  },
  "language_info": {
   "codemirror_mode": {
    "name": "ipython",
    "version": 2
   },
   "file_extension": ".py",
   "mimetype": "text/x-python",
   "name": "python",
   "nbconvert_exporter": "python",
   "pygments_lexer": "ipython2",
   "version": "2.7.6"
  }
 },
 "nbformat": 4,
 "nbformat_minor": 0
}